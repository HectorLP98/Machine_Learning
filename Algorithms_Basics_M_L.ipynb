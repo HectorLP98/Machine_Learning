{
  "cells": [
    {
      "cell_type": "markdown",
      "metadata": {
        "id": "view-in-github",
        "colab_type": "text"
      },
      "source": [
        "<a href=\"https://colab.research.google.com/github/HectorLP98/Machine_Learning/blob/main/Algorithms_Basics_M_L.ipynb\" target=\"_parent\"><img src=\"https://colab.research.google.com/assets/colab-badge.svg\" alt=\"Open In Colab\"/></a>"
      ]
    },
    {
      "cell_type": "markdown",
      "metadata": {
        "id": "0gQxtHmnm1eI"
      },
      "source": [
        "# TensorFlow Core Learning Algorithms\n",
        "\n",
        "Estudiaremos los 4 algoritmos basicos de M.L y aplicaremos cada uno de esots algoritmos antes de resaltar cada uno de sus usos\n",
        "\n",
        "The algortihms we will focus on include:<br>\n",
        "- Linear Regression <br>\n",
        "- Classification <br>\n",
        "- Clustering <br>\n",
        "- Hidden Markov Models <br>\n",
        "\n",
        "Vale la pena señalar que TensorFlow incluye muchas herramientas para solucionar problemas, a continuacion he seleccionado las herramientas mas importantes y faciles de usar."
      ]
    },
    {
      "cell_type": "markdown",
      "metadata": {
        "id": "aGn30vHGn8QH"
      },
      "source": [
        "# Linear Regression\n",
        "En esta seccion se usara un modelo  de regresion para predecir el numero de pasajeros sobrevivientes  en el dataset del titanic.\n",
        "\n",
        "Esta seccion esta basada en las siguiente documentacion: https://www.tensorflow.org/tutorials/estimator/linear \n"
      ]
    },
    {
      "cell_type": "markdown",
      "metadata": {
        "id": "uxghX3yzy2Hh"
      },
      "source": [
        "### How it Works\n",
        "Antes de sumergirnos en el dataset titanic vamos a ver una explicacion muy superficial de como funciona el algoritmo de regresion lineal. Este es usado si los datos tienen una relacion casi lineal, se puede generar una linea que aproxime puntos para el futuro."
      ]
    },
    {
      "cell_type": "code",
      "execution_count": null,
      "metadata": {
        "id": "cfsww7_Fl8GG"
      },
      "outputs": [],
      "source": [
        "from __future__ import absolute_import, division, print_function, unicode_literals\n",
        "import numpy as np \n",
        "import pandas as pd \n",
        "import matplotlib.pyplot as plt\n",
        "from IPython.display import clear_output\n",
        "from six.moves import urllib\n",
        "\n",
        "import tensorflow.compat.v2.feature_column as fc\n",
        "import tensorflow as tf\n",
        "\n"
      ]
    },
    {
      "cell_type": "code",
      "execution_count": null,
      "metadata": {
        "id": "grIw5Qaw3nPY"
      },
      "outputs": [],
      "source": [
        "!pip install -q sklearn"
      ]
    },
    {
      "cell_type": "markdown",
      "metadata": {
        "id": "T0sXtl0r3gO2"
      },
      "source": [
        "### Data\n",
        "La parte mas importante para M.L es la preparacion de los datos,\n",
        "\n",
        "El dataset que vamos a utilizar conitiene la informacion personal de cada uno de los pasajeros en el titanic. Nuestro primer paso es entender los datos y explorarlos."
      ]
    },
    {
      "cell_type": "code",
      "execution_count": null,
      "metadata": {
        "id": "lQwFkvQu3Bnc"
      },
      "outputs": [],
      "source": [
        "dftrain = pd.read_csv('https://storage.googleapis.com/tf-datasets/titanic/train.csv') # training data\n",
        "dfeval = pd.read_csv('https://storage.googleapis.com/tf-datasets/titanic/eval.csv')\n",
        "\n",
        "y_train = dftrain.pop('survived')\n",
        "y_eval = dfeval.pop('survived')\n"
      ]
    },
    {
      "cell_type": "markdown",
      "metadata": {
        "id": "5vQuFUel_DhW"
      },
      "source": [
        "Explorando los datos de entrenamiento."
      ]
    },
    {
      "cell_type": "code",
      "execution_count": null,
      "metadata": {
        "colab": {
          "base_uri": "https://localhost:8080/"
        },
        "id": "aGtIeO3S7dfL",
        "outputId": "553591f6-942b-4a36-f4e0-8b4e1939ae1a"
      },
      "outputs": [
        {
          "data": {
            "text/plain": [
              "(count    627.000000\n",
              " mean       0.387560\n",
              " std        0.487582\n",
              " min        0.000000\n",
              " 25%        0.000000\n",
              " 50%        0.000000\n",
              " 75%        1.000000\n",
              " max        1.000000\n",
              " Name: survived, dtype: float64, count    264.000000\n",
              " mean       0.375000\n",
              " std        0.485042\n",
              " min        0.000000\n",
              " 25%        0.000000\n",
              " 50%        0.000000\n",
              " 75%        1.000000\n",
              " max        1.000000\n",
              " Name: survived, dtype: float64)"
            ]
          },
          "execution_count": 8,
          "metadata": {},
          "output_type": "execute_result"
        }
      ],
      "source": [
        "y_train.describe(), y_eval.describe()"
      ]
    },
    {
      "cell_type": "code",
      "execution_count": null,
      "metadata": {
        "colab": {
          "base_uri": "https://localhost:8080/",
          "height": 206
        },
        "id": "S1fFIBGf7gRN",
        "outputId": "052b4091-e8cd-46a4-b55e-b6bd423f93c9"
      },
      "outputs": [
        {
          "data": {
            "text/html": [
              "\n",
              "  <div id=\"df-dbbf22a8-d2ef-49d4-9ae4-a649d57f0268\">\n",
              "    <div class=\"colab-df-container\">\n",
              "      <div>\n",
              "<style scoped>\n",
              "    .dataframe tbody tr th:only-of-type {\n",
              "        vertical-align: middle;\n",
              "    }\n",
              "\n",
              "    .dataframe tbody tr th {\n",
              "        vertical-align: top;\n",
              "    }\n",
              "\n",
              "    .dataframe thead th {\n",
              "        text-align: right;\n",
              "    }\n",
              "</style>\n",
              "<table border=\"1\" class=\"dataframe\">\n",
              "  <thead>\n",
              "    <tr style=\"text-align: right;\">\n",
              "      <th></th>\n",
              "      <th>sex</th>\n",
              "      <th>age</th>\n",
              "      <th>n_siblings_spouses</th>\n",
              "      <th>parch</th>\n",
              "      <th>fare</th>\n",
              "      <th>class</th>\n",
              "      <th>deck</th>\n",
              "      <th>embark_town</th>\n",
              "      <th>alone</th>\n",
              "    </tr>\n",
              "  </thead>\n",
              "  <tbody>\n",
              "    <tr>\n",
              "      <th>0</th>\n",
              "      <td>male</td>\n",
              "      <td>22.0</td>\n",
              "      <td>1</td>\n",
              "      <td>0</td>\n",
              "      <td>7.2500</td>\n",
              "      <td>Third</td>\n",
              "      <td>unknown</td>\n",
              "      <td>Southampton</td>\n",
              "      <td>n</td>\n",
              "    </tr>\n",
              "    <tr>\n",
              "      <th>1</th>\n",
              "      <td>female</td>\n",
              "      <td>38.0</td>\n",
              "      <td>1</td>\n",
              "      <td>0</td>\n",
              "      <td>71.2833</td>\n",
              "      <td>First</td>\n",
              "      <td>C</td>\n",
              "      <td>Cherbourg</td>\n",
              "      <td>n</td>\n",
              "    </tr>\n",
              "    <tr>\n",
              "      <th>2</th>\n",
              "      <td>female</td>\n",
              "      <td>26.0</td>\n",
              "      <td>0</td>\n",
              "      <td>0</td>\n",
              "      <td>7.9250</td>\n",
              "      <td>Third</td>\n",
              "      <td>unknown</td>\n",
              "      <td>Southampton</td>\n",
              "      <td>y</td>\n",
              "    </tr>\n",
              "    <tr>\n",
              "      <th>3</th>\n",
              "      <td>female</td>\n",
              "      <td>35.0</td>\n",
              "      <td>1</td>\n",
              "      <td>0</td>\n",
              "      <td>53.1000</td>\n",
              "      <td>First</td>\n",
              "      <td>C</td>\n",
              "      <td>Southampton</td>\n",
              "      <td>n</td>\n",
              "    </tr>\n",
              "    <tr>\n",
              "      <th>4</th>\n",
              "      <td>male</td>\n",
              "      <td>28.0</td>\n",
              "      <td>0</td>\n",
              "      <td>0</td>\n",
              "      <td>8.4583</td>\n",
              "      <td>Third</td>\n",
              "      <td>unknown</td>\n",
              "      <td>Queenstown</td>\n",
              "      <td>y</td>\n",
              "    </tr>\n",
              "  </tbody>\n",
              "</table>\n",
              "</div>\n",
              "      <button class=\"colab-df-convert\" onclick=\"convertToInteractive('df-dbbf22a8-d2ef-49d4-9ae4-a649d57f0268')\"\n",
              "              title=\"Convert this dataframe to an interactive table.\"\n",
              "              style=\"display:none;\">\n",
              "        \n",
              "  <svg xmlns=\"http://www.w3.org/2000/svg\" height=\"24px\"viewBox=\"0 0 24 24\"\n",
              "       width=\"24px\">\n",
              "    <path d=\"M0 0h24v24H0V0z\" fill=\"none\"/>\n",
              "    <path d=\"M18.56 5.44l.94 2.06.94-2.06 2.06-.94-2.06-.94-.94-2.06-.94 2.06-2.06.94zm-11 1L8.5 8.5l.94-2.06 2.06-.94-2.06-.94L8.5 2.5l-.94 2.06-2.06.94zm10 10l.94 2.06.94-2.06 2.06-.94-2.06-.94-.94-2.06-.94 2.06-2.06.94z\"/><path d=\"M17.41 7.96l-1.37-1.37c-.4-.4-.92-.59-1.43-.59-.52 0-1.04.2-1.43.59L10.3 9.45l-7.72 7.72c-.78.78-.78 2.05 0 2.83L4 21.41c.39.39.9.59 1.41.59.51 0 1.02-.2 1.41-.59l7.78-7.78 2.81-2.81c.8-.78.8-2.07 0-2.86zM5.41 20L4 18.59l7.72-7.72 1.47 1.35L5.41 20z\"/>\n",
              "  </svg>\n",
              "      </button>\n",
              "      \n",
              "  <style>\n",
              "    .colab-df-container {\n",
              "      display:flex;\n",
              "      flex-wrap:wrap;\n",
              "      gap: 12px;\n",
              "    }\n",
              "\n",
              "    .colab-df-convert {\n",
              "      background-color: #E8F0FE;\n",
              "      border: none;\n",
              "      border-radius: 50%;\n",
              "      cursor: pointer;\n",
              "      display: none;\n",
              "      fill: #1967D2;\n",
              "      height: 32px;\n",
              "      padding: 0 0 0 0;\n",
              "      width: 32px;\n",
              "    }\n",
              "\n",
              "    .colab-df-convert:hover {\n",
              "      background-color: #E2EBFA;\n",
              "      box-shadow: 0px 1px 2px rgba(60, 64, 67, 0.3), 0px 1px 3px 1px rgba(60, 64, 67, 0.15);\n",
              "      fill: #174EA6;\n",
              "    }\n",
              "\n",
              "    [theme=dark] .colab-df-convert {\n",
              "      background-color: #3B4455;\n",
              "      fill: #D2E3FC;\n",
              "    }\n",
              "\n",
              "    [theme=dark] .colab-df-convert:hover {\n",
              "      background-color: #434B5C;\n",
              "      box-shadow: 0px 1px 3px 1px rgba(0, 0, 0, 0.15);\n",
              "      filter: drop-shadow(0px 1px 2px rgba(0, 0, 0, 0.3));\n",
              "      fill: #FFFFFF;\n",
              "    }\n",
              "  </style>\n",
              "\n",
              "      <script>\n",
              "        const buttonEl =\n",
              "          document.querySelector('#df-dbbf22a8-d2ef-49d4-9ae4-a649d57f0268 button.colab-df-convert');\n",
              "        buttonEl.style.display =\n",
              "          google.colab.kernel.accessAllowed ? 'block' : 'none';\n",
              "\n",
              "        async function convertToInteractive(key) {\n",
              "          const element = document.querySelector('#df-dbbf22a8-d2ef-49d4-9ae4-a649d57f0268');\n",
              "          const dataTable =\n",
              "            await google.colab.kernel.invokeFunction('convertToInteractive',\n",
              "                                                     [key], {});\n",
              "          if (!dataTable) return;\n",
              "\n",
              "          const docLinkHtml = 'Like what you see? Visit the ' +\n",
              "            '<a target=\"_blank\" href=https://colab.research.google.com/notebooks/data_table.ipynb>data table notebook</a>'\n",
              "            + ' to learn more about interactive tables.';\n",
              "          element.innerHTML = '';\n",
              "          dataTable['output_type'] = 'display_data';\n",
              "          await google.colab.output.renderOutput(dataTable, element);\n",
              "          const docLink = document.createElement('div');\n",
              "          docLink.innerHTML = docLinkHtml;\n",
              "          element.appendChild(docLink);\n",
              "        }\n",
              "      </script>\n",
              "    </div>\n",
              "  </div>\n",
              "  "
            ],
            "text/plain": [
              "      sex   age  n_siblings_spouses  parch     fare  class     deck  \\\n",
              "0    male  22.0                   1      0   7.2500  Third  unknown   \n",
              "1  female  38.0                   1      0  71.2833  First        C   \n",
              "2  female  26.0                   0      0   7.9250  Third  unknown   \n",
              "3  female  35.0                   1      0  53.1000  First        C   \n",
              "4    male  28.0                   0      0   8.4583  Third  unknown   \n",
              "\n",
              "   embark_town alone  \n",
              "0  Southampton     n  \n",
              "1    Cherbourg     n  \n",
              "2  Southampton     y  \n",
              "3  Southampton     n  \n",
              "4   Queenstown     y  "
            ]
          },
          "execution_count": 9,
          "metadata": {},
          "output_type": "execute_result"
        }
      ],
      "source": [
        "dftrain.head()"
      ]
    },
    {
      "cell_type": "code",
      "execution_count": null,
      "metadata": {
        "colab": {
          "base_uri": "https://localhost:8080/"
        },
        "id": "_E1rw_pU_Kfa",
        "outputId": "f1ec0dc1-3c6f-4e6f-a169-62ba72bfa8e0"
      },
      "outputs": [
        {
          "name": "stdout",
          "output_type": "stream",
          "text": [
            "<class 'pandas.core.frame.DataFrame'>\n",
            "RangeIndex: 627 entries, 0 to 626\n",
            "Data columns (total 9 columns):\n",
            " #   Column              Non-Null Count  Dtype  \n",
            "---  ------              --------------  -----  \n",
            " 0   sex                 627 non-null    object \n",
            " 1   age                 627 non-null    float64\n",
            " 2   n_siblings_spouses  627 non-null    int64  \n",
            " 3   parch               627 non-null    int64  \n",
            " 4   fare                627 non-null    float64\n",
            " 5   class               627 non-null    object \n",
            " 6   deck                627 non-null    object \n",
            " 7   embark_town         627 non-null    object \n",
            " 8   alone               627 non-null    object \n",
            "dtypes: float64(2), int64(2), object(5)\n",
            "memory usage: 44.2+ KB\n"
          ]
        }
      ],
      "source": [
        "dftrain.info()"
      ]
    },
    {
      "cell_type": "code",
      "execution_count": null,
      "metadata": {
        "colab": {
          "base_uri": "https://localhost:8080/",
          "height": 300
        },
        "id": "10KfZsuk_NCm",
        "outputId": "dba832ef-5b93-4263-99fd-9b4c6b177746"
      },
      "outputs": [
        {
          "data": {
            "text/html": [
              "\n",
              "  <div id=\"df-ad83cf0b-c6a1-40ad-80e8-26e8511ac504\">\n",
              "    <div class=\"colab-df-container\">\n",
              "      <div>\n",
              "<style scoped>\n",
              "    .dataframe tbody tr th:only-of-type {\n",
              "        vertical-align: middle;\n",
              "    }\n",
              "\n",
              "    .dataframe tbody tr th {\n",
              "        vertical-align: top;\n",
              "    }\n",
              "\n",
              "    .dataframe thead th {\n",
              "        text-align: right;\n",
              "    }\n",
              "</style>\n",
              "<table border=\"1\" class=\"dataframe\">\n",
              "  <thead>\n",
              "    <tr style=\"text-align: right;\">\n",
              "      <th></th>\n",
              "      <th>age</th>\n",
              "      <th>n_siblings_spouses</th>\n",
              "      <th>parch</th>\n",
              "      <th>fare</th>\n",
              "    </tr>\n",
              "  </thead>\n",
              "  <tbody>\n",
              "    <tr>\n",
              "      <th>count</th>\n",
              "      <td>627.000000</td>\n",
              "      <td>627.000000</td>\n",
              "      <td>627.000000</td>\n",
              "      <td>627.000000</td>\n",
              "    </tr>\n",
              "    <tr>\n",
              "      <th>mean</th>\n",
              "      <td>29.631308</td>\n",
              "      <td>0.545455</td>\n",
              "      <td>0.379585</td>\n",
              "      <td>34.385399</td>\n",
              "    </tr>\n",
              "    <tr>\n",
              "      <th>std</th>\n",
              "      <td>12.511818</td>\n",
              "      <td>1.151090</td>\n",
              "      <td>0.792999</td>\n",
              "      <td>54.597730</td>\n",
              "    </tr>\n",
              "    <tr>\n",
              "      <th>min</th>\n",
              "      <td>0.750000</td>\n",
              "      <td>0.000000</td>\n",
              "      <td>0.000000</td>\n",
              "      <td>0.000000</td>\n",
              "    </tr>\n",
              "    <tr>\n",
              "      <th>25%</th>\n",
              "      <td>23.000000</td>\n",
              "      <td>0.000000</td>\n",
              "      <td>0.000000</td>\n",
              "      <td>7.895800</td>\n",
              "    </tr>\n",
              "    <tr>\n",
              "      <th>50%</th>\n",
              "      <td>28.000000</td>\n",
              "      <td>0.000000</td>\n",
              "      <td>0.000000</td>\n",
              "      <td>15.045800</td>\n",
              "    </tr>\n",
              "    <tr>\n",
              "      <th>75%</th>\n",
              "      <td>35.000000</td>\n",
              "      <td>1.000000</td>\n",
              "      <td>0.000000</td>\n",
              "      <td>31.387500</td>\n",
              "    </tr>\n",
              "    <tr>\n",
              "      <th>max</th>\n",
              "      <td>80.000000</td>\n",
              "      <td>8.000000</td>\n",
              "      <td>5.000000</td>\n",
              "      <td>512.329200</td>\n",
              "    </tr>\n",
              "  </tbody>\n",
              "</table>\n",
              "</div>\n",
              "      <button class=\"colab-df-convert\" onclick=\"convertToInteractive('df-ad83cf0b-c6a1-40ad-80e8-26e8511ac504')\"\n",
              "              title=\"Convert this dataframe to an interactive table.\"\n",
              "              style=\"display:none;\">\n",
              "        \n",
              "  <svg xmlns=\"http://www.w3.org/2000/svg\" height=\"24px\"viewBox=\"0 0 24 24\"\n",
              "       width=\"24px\">\n",
              "    <path d=\"M0 0h24v24H0V0z\" fill=\"none\"/>\n",
              "    <path d=\"M18.56 5.44l.94 2.06.94-2.06 2.06-.94-2.06-.94-.94-2.06-.94 2.06-2.06.94zm-11 1L8.5 8.5l.94-2.06 2.06-.94-2.06-.94L8.5 2.5l-.94 2.06-2.06.94zm10 10l.94 2.06.94-2.06 2.06-.94-2.06-.94-.94-2.06-.94 2.06-2.06.94z\"/><path d=\"M17.41 7.96l-1.37-1.37c-.4-.4-.92-.59-1.43-.59-.52 0-1.04.2-1.43.59L10.3 9.45l-7.72 7.72c-.78.78-.78 2.05 0 2.83L4 21.41c.39.39.9.59 1.41.59.51 0 1.02-.2 1.41-.59l7.78-7.78 2.81-2.81c.8-.78.8-2.07 0-2.86zM5.41 20L4 18.59l7.72-7.72 1.47 1.35L5.41 20z\"/>\n",
              "  </svg>\n",
              "      </button>\n",
              "      \n",
              "  <style>\n",
              "    .colab-df-container {\n",
              "      display:flex;\n",
              "      flex-wrap:wrap;\n",
              "      gap: 12px;\n",
              "    }\n",
              "\n",
              "    .colab-df-convert {\n",
              "      background-color: #E8F0FE;\n",
              "      border: none;\n",
              "      border-radius: 50%;\n",
              "      cursor: pointer;\n",
              "      display: none;\n",
              "      fill: #1967D2;\n",
              "      height: 32px;\n",
              "      padding: 0 0 0 0;\n",
              "      width: 32px;\n",
              "    }\n",
              "\n",
              "    .colab-df-convert:hover {\n",
              "      background-color: #E2EBFA;\n",
              "      box-shadow: 0px 1px 2px rgba(60, 64, 67, 0.3), 0px 1px 3px 1px rgba(60, 64, 67, 0.15);\n",
              "      fill: #174EA6;\n",
              "    }\n",
              "\n",
              "    [theme=dark] .colab-df-convert {\n",
              "      background-color: #3B4455;\n",
              "      fill: #D2E3FC;\n",
              "    }\n",
              "\n",
              "    [theme=dark] .colab-df-convert:hover {\n",
              "      background-color: #434B5C;\n",
              "      box-shadow: 0px 1px 3px 1px rgba(0, 0, 0, 0.15);\n",
              "      filter: drop-shadow(0px 1px 2px rgba(0, 0, 0, 0.3));\n",
              "      fill: #FFFFFF;\n",
              "    }\n",
              "  </style>\n",
              "\n",
              "      <script>\n",
              "        const buttonEl =\n",
              "          document.querySelector('#df-ad83cf0b-c6a1-40ad-80e8-26e8511ac504 button.colab-df-convert');\n",
              "        buttonEl.style.display =\n",
              "          google.colab.kernel.accessAllowed ? 'block' : 'none';\n",
              "\n",
              "        async function convertToInteractive(key) {\n",
              "          const element = document.querySelector('#df-ad83cf0b-c6a1-40ad-80e8-26e8511ac504');\n",
              "          const dataTable =\n",
              "            await google.colab.kernel.invokeFunction('convertToInteractive',\n",
              "                                                     [key], {});\n",
              "          if (!dataTable) return;\n",
              "\n",
              "          const docLinkHtml = 'Like what you see? Visit the ' +\n",
              "            '<a target=\"_blank\" href=https://colab.research.google.com/notebooks/data_table.ipynb>data table notebook</a>'\n",
              "            + ' to learn more about interactive tables.';\n",
              "          element.innerHTML = '';\n",
              "          dataTable['output_type'] = 'display_data';\n",
              "          await google.colab.output.renderOutput(dataTable, element);\n",
              "          const docLink = document.createElement('div');\n",
              "          docLink.innerHTML = docLinkHtml;\n",
              "          element.appendChild(docLink);\n",
              "        }\n",
              "      </script>\n",
              "    </div>\n",
              "  </div>\n",
              "  "
            ],
            "text/plain": [
              "              age  n_siblings_spouses       parch        fare\n",
              "count  627.000000          627.000000  627.000000  627.000000\n",
              "mean    29.631308            0.545455    0.379585   34.385399\n",
              "std     12.511818            1.151090    0.792999   54.597730\n",
              "min      0.750000            0.000000    0.000000    0.000000\n",
              "25%     23.000000            0.000000    0.000000    7.895800\n",
              "50%     28.000000            0.000000    0.000000   15.045800\n",
              "75%     35.000000            1.000000    0.000000   31.387500\n",
              "max     80.000000            8.000000    5.000000  512.329200"
            ]
          },
          "execution_count": 11,
          "metadata": {},
          "output_type": "execute_result"
        }
      ],
      "source": [
        "dftrain.describe()"
      ]
    },
    {
      "cell_type": "code",
      "execution_count": null,
      "metadata": {
        "colab": {
          "base_uri": "https://localhost:8080/"
        },
        "id": "Lx9NLXly_RbF",
        "outputId": "f9105cfe-1c13-444e-9e84-98f20427f1c7"
      },
      "outputs": [
        {
          "data": {
            "text/plain": [
              "(627, 9)"
            ]
          },
          "execution_count": 12,
          "metadata": {},
          "output_type": "execute_result"
        }
      ],
      "source": [
        "dftrain.shape"
      ]
    },
    {
      "cell_type": "markdown",
      "metadata": {
        "id": "AglBdmUm_w7H"
      },
      "source": [
        "Ahora vamos a ver algunas graficas de nuestros datos, esto nos dara una intuicion mas grande de como se relacionan los datos con nuestra variable objetivo: \" survived\".\n"
      ]
    },
    {
      "cell_type": "code",
      "execution_count": null,
      "metadata": {
        "colab": {
          "base_uri": "https://localhost:8080/",
          "height": 283
        },
        "id": "ceIrbXuu_TFp",
        "outputId": "e5b39095-717d-4bb7-87d9-f0604f7db03b"
      },
      "outputs": [
        {
          "data": {
            "text/plain": [
              "<matplotlib.axes._subplots.AxesSubplot at 0x7fd2cec1c610>"
            ]
          },
          "execution_count": 14,
          "metadata": {},
          "output_type": "execute_result"
        },
        {
          "data": {
            "image/png": "[encoded data removed]",
            "text/plain": [
              "<Figure size 432x288 with 1 Axes>"
            ]
          },
          "metadata": {},
          "output_type": "display_data"
        }
      ],
      "source": [
        "dftrain.age.hist(bins=20)"
      ]
    },
    {
      "cell_type": "markdown",
      "metadata": {
        "id": "NWBMS51CAPmc"
      },
      "source": [
        "Podemos observar que la mayoria de los pasajeros tenian entre 20 y 38 años.\n",
        "\n",
        "Ademas las personas que estan entre los 20 podrian generar un sesgo en el modelo."
      ]
    },
    {
      "cell_type": "code",
      "execution_count": null,
      "metadata": {
        "colab": {
          "background_save": true
        },
        "id": "cFDKZg_HAD_I",
        "outputId": "b7d43cb4-d26b-4836-bfaf-4eb95189cb8e"
      },
      "outputs": [
        {
          "data": {
            "text/plain": [
              "<matplotlib.axes._subplots.AxesSubplot at 0x7fd2cf787290>"
            ]
          },
          "execution_count": 15,
          "metadata": {},
          "output_type": "execute_result"
        },
        {
          "data": {
            "image/png": "[encoded data removed]",
            "text/plain": [
              "<Figure size 432x288 with 1 Axes>"
            ]
          },
          "metadata": {},
          "output_type": "display_data"
        }
      ],
      "source": [
        "dftrain.sex.value_counts().plot(kind=)"
      ]
    },
    {
      "cell_type": "markdown",
      "source": [
        "Observamos que la mayor parte de los pasajeros eran hombres."
      ],
      "metadata": {
        "id": "cWHbXkNtCEh4"
      }
    },
    {
      "cell_type": "code",
      "source": [
        "dftrain['class'].value_counts().plot(kind='barh')"
      ],
      "metadata": {
        "colab": {
          "base_uri": "https://localhost:8080/",
          "height": 283
        },
        "id": "GjYlP4q3CKEe",
        "outputId": "2a3a2519-c3f7-41ed-9d9e-9c99bde9189e"
      },
      "execution_count": null,
      "outputs": [
        {
          "output_type": "execute_result",
          "data": {
            "text/plain": [
              "<matplotlib.axes._subplots.AxesSubplot at 0x7f5af0405690>"
            ]
          },
          "metadata": {},
          "execution_count": 4
        },
        {
          "output_type": "display_data",
          "data": {
            "text/plain": [
              "<Figure size 432x288 with 1 Axes>"
            ],
            "image/png": "[encoded data removed]"
          },
          "metadata": {
            "needs_background": "light"
          }
        }
      ]
    },
    {
      "cell_type": "markdown",
      "source": [
        "Notamos que la mayor parte de los pasajeros tenian un boleto de 3ra clase, y los mas escasos eran los de 2da clase."
      ],
      "metadata": {
        "id": "JWH1ayzkCXqj"
      }
    },
    {
      "cell_type": "code",
      "source": [
        "pd.concat([dftrain, y_train], axis=1).groupby('sex').survived.mean().plot(kind='barh').set_xlabel('% survive')"
      ],
      "metadata": {
        "colab": {
          "base_uri": "https://localhost:8080/",
          "height": 297
        },
        "id": "0jR1CtiVCSJc",
        "outputId": "62d27cfa-54bd-46ae-9482-95fcf3867d25"
      },
      "execution_count": null,
      "outputs": [
        {
          "output_type": "execute_result",
          "data": {
            "text/plain": [
              "Text(0.5, 0, '% survive')"
            ]
          },
          "metadata": {},
          "execution_count": 5
        },
        {
          "output_type": "display_data",
          "data": {
            "text/plain": [
              "<Figure size 432x288 with 1 Axes>"
            ],
            "image/png": "[encoded data removed]"
          },
          "metadata": {
            "needs_background": "light"
          }
        }
      ]
    },
    {
      "cell_type": "markdown",
      "source": [
        "La mayor parte de las personas que sobrevivieron fueron mujeres, y como habian menos mujeres que hombres, podemos inferir con mucha certea que las mujeres tienen mas probabilidad de sobrevivir que un hombre."
      ],
      "metadata": {
        "id": "lESMpJXvCri2"
      }
    },
    {
      "cell_type": "markdown",
      "source": [
        "### Training vs Testing Data\n",
        "\n",
        "Para entrenar modelos necesitamos dos sets de datos diferentes: **Los datos de entrenamiendo y los datos de prueba**. <br>\n",
        "\n",
        "Los datos training (entrenamiento) se usan para entrenar el modelo y suelen ser mucho mas grandes que los datos de validacion (testing). <br>\n",
        "\n",
        "Los datos testing se usan para revisar la performancia del modelo y evaluar dicho modelo.\n",
        "Usaremos datos diferentes de con los que se entreno el modelo. ¿Puedes pensar el porque de esto?. <br>\n",
        "\n",
        "Bueno, el punto de hacer modelos es hacer predicciones para nuevos datos que nunca ha visto antes. Con el testing data probamos datos que el modelo no ha visto y como nosotros no estamos seguros que el modelo no memoriza los valores de entraniemnto es por eso que necesitamos 2 datos diferentes (testing and training).\n",
        "\n",
        "### Feature Columns\n",
        "En nuestro dataset tenemos dos tipos diferentes de informacion, Categoricos y Numericos. <br>\n",
        "\n",
        "Nuestros datos categoricos son todos aquellos que no son numericos, por ejemplo el sexo de los pasajeros que son 'male' and 'female'. <br>\n",
        "\n",
        "Antes de seguir adelante con el entrenamiento de los modelos debemos hacer estos datos numericos, ejemplo: 'male = 1', 'female = 2', aunque no necesariamente debe tener este orden o esos numeros. <br>\n",
        "\n",
        "afortunadamente TensorFlow tiene lo necesario para ayudarnos.\n",
        "\n"
      ],
      "metadata": {
        "id": "PuIwW6OMTg36"
      }
    },
    {
      "cell_type": "code",
      "source": [
        "CATEGORICAL_COLUMNS = ['sex', 'n_siblings_spouses', 'parch', 'class', 'deck',\n",
        "                       'embark_town', 'alone']\n",
        "NUMERIC_COLUMNS = ['age', 'fare']\n",
        "\n",
        "feature_column = []\n",
        "\n",
        "for feature_name in CATEGORICAL_COLUMNS:\n",
        "  vocabulary = dftrain[feature_name].unique()\n",
        "  feature_column.append(tf.feature_column.categorical_column_with_vocabulary_list(feature_name, vocabulary))\n",
        "\n",
        "for feature_name in NUMERIC_COLUMNS:\n",
        "  feature_column.append(tf.feature_column.numeric_column(feature_name, dtype=tf.float32))\n",
        "\n",
        "print(feature_column)"
      ],
      "metadata": {
        "id": "9D_0ccTLCnkA",
        "colab": {
          "base_uri": "https://localhost:8080/"
        },
        "outputId": "00728748-f629-488e-9154-e95ecb46ec9b"
      },
      "execution_count": null,
      "outputs": [
        {
          "output_type": "stream",
          "name": "stdout",
          "text": [
            "[VocabularyListCategoricalColumn(key='sex', vocabulary_list=('male', 'female'), dtype=tf.string, default_value=-1, num_oov_buckets=0), VocabularyListCategoricalColumn(key='n_siblings_spouses', vocabulary_list=(1, 0, 3, 4, 2, 5, 8), dtype=tf.int64, default_value=-1, num_oov_buckets=0), VocabularyListCategoricalColumn(key='parch', vocabulary_list=(0, 1, 2, 5, 3, 4), dtype=tf.int64, default_value=-1, num_oov_buckets=0), VocabularyListCategoricalColumn(key='class', vocabulary_list=('Third', 'First', 'Second'), dtype=tf.string, default_value=-1, num_oov_buckets=0), VocabularyListCategoricalColumn(key='deck', vocabulary_list=('unknown', 'C', 'G', 'A', 'B', 'D', 'F', 'E'), dtype=tf.string, default_value=-1, num_oov_buckets=0), VocabularyListCategoricalColumn(key='embark_town', vocabulary_list=('Southampton', 'Cherbourg', 'Queenstown', 'unknown'), dtype=tf.string, default_value=-1, num_oov_buckets=0), VocabularyListCategoricalColumn(key='alone', vocabulary_list=('n', 'y'), dtype=tf.string, default_value=-1, num_oov_buckets=0), NumericColumn(key='age', shape=(1,), default_value=None, dtype=tf.float32, normalizer_fn=None), NumericColumn(key='fare', shape=(1,), default_value=None, dtype=tf.float32, normalizer_fn=None)]\n"
          ]
        }
      ]
    },
    {
      "cell_type": "markdown",
      "source": [
        "Esencialmente lo que estamos haciendo aqui estamos creando un lista de features que estan en nuestro dataset. <br>\n",
        "\n",
        "Las lineas de codigo dentro del metodo append() lo que hacen es crear un objeto que nuestro modelo puede usar para mapear  valores cadena como  'male' and 'female' y convertirlas en enteros. Esto nos evita codificar dichos valores manualmente.<br>\n",
        "\n",
        "Aqui hay algo de documentacion complementaria:\n",
        "https://www.tensorflow.org/api_docs/python/tf/feature_column/categorical_column_with_vocabulary_list\n",
        "\n",
        "https://www.tensorflow.org/api_docs/python/tf/feature_column"
      ],
      "metadata": {
        "id": "4MbYip-qY5_B"
      }
    },
    {
      "cell_type": "markdown",
      "source": [
        "### EL proceso de entrenamiento\n",
        "Casi hemos terminado de preparar nuestros datos asi que es buen momento para explicar como entrenar nuestro modelo. Especificamente como alimentar los datos de entrada de nuestro modelo. <br>\n",
        "Para este modelo específico, los datos se transmitirán en él en pequeños lotes de 32. Esto significa que no ingresaremos todo el conjunto de datos a la vez, mas bien ingresaremos pequeños lotes. <br>\n",
        "Realmente alimentaremos a nuestro modelo con estos lotes de acuerdo al numero de epochs (epocas).\n",
        "\n",
        "Un epoch (epoca) es simplemente un flujo de entreda de nuestro modelo. El numero de epochs que definimos es la cantidad de veces que nuestro modelo vera el conjunto de datos.Usamos multiples epochs (epocas) con la esperanza de que despues de ver el mismo dataset muchas veces, el modelo determinara mejor como estimar los datos. <br>\n",
        "Ejem; si le damos 10 epochs nuestro modelo vera el mismmo dataset 10 veces. <br>\n",
        "\n",
        "Ya que necesitamos alimentar nuestros datos en lotes y hacerlo multiples veces, necesitamos crear algo llamado una **funcion de entrada**. The input function simplemente define como nuestro dataset se convertira en lotes en cada epoca. <br>\n",
        "\n",
        "En otras palabras, le pasaremos lotes de muestras diferentes sin repeticion en cada epoch.\n",
        "\n"
      ],
      "metadata": {
        "id": "NqeLeUxSdYtj"
      }
    },
    {
      "cell_type": "markdown",
      "source": [
        "### Funcion de entrada (Input function)\n",
        "\n",
        "El modelo TensorFlow que vamos a usar requiere que los datos seas pasados viniendo del objeto *tf.data.Dataset*. Esto significa que debemos crear una funcion de entrada que convierta nuestro pandas dataframe en ese objeto. <br>\n",
        "\n",
        "A bajo encontrar una funcion de entrada aparentemente complicada, esta es extraida de la documentacion de TensorFlow: https://www.tensorflow.org/tutorials/estimator/linear<br>\n",
        "\n",
        "La input_function especifica cómo se convierten los datos en un tf.data.Dataset que alimenta la canalización de entrada en forma de transmisión. tf.data.Dataset puede admitir múltiples fuentes, como un marco de datos, un archivo con formato csv y más."
      ],
      "metadata": {
        "id": "F9R1ojdhLp6o"
      }
    },
    {
      "cell_type": "code",
      "source": [
        "def make_input_fn(data_df, label_df, num_epochs=10, shuffle=True, batch_size=32):\n",
        "  def input_function():\n",
        "    ds = tf.data.Dataset.from_tensor_slices((dict(data_df), label_df))\n",
        "    if shuffle:\n",
        "      ds = ds.shuffle(1000)\n",
        "    ds = ds.batch(batch_size).repeat(num_epochs)\n",
        "    return ds\n",
        "  return input_function\n",
        "\n",
        "train_input_fn = make_input_fn(dftrain, y_train)\n",
        "eval_input_fn = make_input_fn(dfeval, y_eval, num_epochs=1, shuffle=False)"
      ],
      "metadata": {
        "id": "0ylGzHgDYfRp"
      },
      "execution_count": null,
      "outputs": []
    },
    {
      "cell_type": "markdown",
      "source": [
        "### Creando el modelo.\n",
        "En este tuto, vamos a usar el modelo de regression lineal.\n",
        "Crearlo es de hecho muy facil y bello!! Mira la celda a continuacion."
      ],
      "metadata": {
        "id": "w83r6tdeQQkv"
      }
    },
    {
      "cell_type": "code",
      "source": [
        "linear_est = tf.estimator.LinearClassifier(feature_columns=feature_column)\n",
        "\n",
        "# Creamos un estimador linear pasando las columnas features que previamente habiamos creado."
      ],
      "metadata": {
        "id": "DKBCBvZoQnXD"
      },
      "execution_count": null,
      "outputs": []
    },
    {
      "cell_type": "markdown",
      "source": [
        "### Entrenando el modelo.\n",
        "Entrenar el modelo tambien es demasiado sencillo, debemos pasar el output de la input function que ya hemos creado."
      ],
      "metadata": {
        "id": "gm_0MXgARnu8"
      }
    },
    {
      "cell_type": "code",
      "source": [
        "linear_est = tf.estimator.LinearClassifier(feature_columns=feature_columns)\n",
        "linear_est.train(train_input_fn)\n",
        "result = linear_est.evaluate(eval_input_fn)\n",
        "\n",
        "clear_output()\n",
        "print(result)"
      ],
      "metadata": {
        "id": "nN2yc9kzR33Q"
      },
      "execution_count": null,
      "outputs": []
    },
    {
      "cell_type": "code",
      "source": [
        "# Hacer la prediccion.\n",
        "result = list(linear_est.predict(eval_input_fn))\n",
        "print('Datos del pasajero i-esimo', dfeval.loc[2])\n",
        "print('Valor real del pasajero i-esimo', y_eval.loc[2])\n",
        "print('Prediccion; probabilidad de (no sobrevive, sobrevive)', result[2]['probabilities'])"
      ],
      "metadata": {
        "id": "KW4bt9pgVUnq"
      },
      "execution_count": null,
      "outputs": []
    },
    {
      "cell_type": "markdown",
      "source": [
        "### Columnas de funciones derivadas\n",
        "Ahora alcanzaste una precisión del 75%. El uso de cada columna de características base por separado puede no ser suficiente para explicar los datos. Por ejemplo, la correlación entre la edad y la etiqueta puede ser diferente para diferentes géneros. Por lo tanto, si solo aprende un peso de modelo único para gender=\"Male\" y gender=\"Female\" , no capturará todas las combinaciones de edad y género (por ejemplo, distinguir entre gender=\"Male\" AND age=\"30\" AND gender=\"Male\" Y age=\"40\" ).\n",
        "\n",
        "Para conocer las diferencias entre las diferentes combinaciones de características, puede agregar columnas de características cruzadas al modelo (también puede clasificar la columna de edad antes de la columna cruzada):"
      ],
      "metadata": {
        "id": "ktOBIIyXXBy2"
      }
    },
    {
      "cell_type": "code",
      "source": [
        "age_x_gender = tf.feature_column.crossed_column(['age', 'sex'], hash_bucket_size=100)"
      ],
      "metadata": {
        "id": "_8DiX0w-XEXf"
      },
      "execution_count": null,
      "outputs": []
    },
    {
      "cell_type": "markdown",
      "source": [
        "Después de agregar la función de combinación al modelo, entrenemos el modelo nuevamente:"
      ],
      "metadata": {
        "id": "eOtbYz48XNOc"
      }
    },
    {
      "cell_type": "code",
      "source": [
        "derived_feature_columns = [age_x_gender]\n",
        "linear_est = tf.estimator.LinearClassifier(feature_columns=feature_columns+derived_feature_columns)\n",
        "linear_est.train(train_input_fn)\n",
        "result = linear_est.evaluate(eval_input_fn)\n",
        "\n",
        "clear_output()\n",
        "print(result)"
      ],
      "metadata": {
        "id": "WoPdd_ZEXOf-"
      },
      "execution_count": null,
      "outputs": []
    },
    {
      "cell_type": "markdown",
      "source": [
        "# Clasificador\n",
        "Ya que hemos cubierto la regresion lineal, es tiempo  de hablar de la clasificación. La regesión lineal fue usada para estimar un valor numerico real, la clasificación es usada para separar puntos de datos en  diferentes etiquetas (labels). En este ejemplo vamos a usar un estimador TensorFlow para clasificar flores.\n",
        "\n",
        "La siguiente seccion esta basada en la guia de la pagina web de TensorFlow: \n",
        "\n",
        "https://www.tensorflow.org/tutorials/estimator/premade"
      ],
      "metadata": {
        "id": "0BAt4RxlXwDP"
      }
    },
    {
      "cell_type": "code",
      "source": [
        "import pandas as pd \n",
        "import tensorflow as tf"
      ],
      "metadata": {
        "id": "k-U5hPITaHcs"
      },
      "execution_count": null,
      "outputs": []
    },
    {
      "cell_type": "markdown",
      "source": [
        "### El conjunto de datos\n",
        "El programa de ejemplo de este documento crea y prueba un modelo que clasifica las flores de iris en tres especies diferentes según el tamaño de sus sépalos y pétalos .\n",
        "\n",
        "Entrenará un modelo utilizando el conjunto de datos de Iris. El conjunto de datos de Iris contiene cuatro características y una etiqueta . Las cuatro características identifican las siguientes características botánicas de las flores individuales de Iris:\n",
        "\n",
        "longitud del sépalo <br>\n",
        "anchura del sépalo <br>\n",
        "longitud del pétalo <br>\n",
        "ancho de pétalo <br>\n",
        "\n",
        "En función de esta información, puede definir algunas constantes útiles para analizar los datos:"
      ],
      "metadata": {
        "id": "YK4Hm389bZMR"
      }
    },
    {
      "cell_type": "code",
      "source": [
        "CSV_COLUMN_NAMES = ['SepalLength', 'SepalWidth', 'PetalLength', 'PetalWidth', 'Species']\n",
        "SPECIES = ['Setosa', 'Versicolor', 'Virginica']"
      ],
      "metadata": {
        "id": "OdIHT9WzbcFX"
      },
      "execution_count": null,
      "outputs": []
    },
    {
      "cell_type": "markdown",
      "source": [
        "A continuacion se descargan los datasets."
      ],
      "metadata": {
        "id": "m3Hl_53nbq5F"
      }
    },
    {
      "cell_type": "code",
      "source": [
        "train_path = tf.keras.utils.get_file(\n",
        "    \"iris_training.csv\", \"https://storage.googleapis.com/download.tensorflow.org/data/iris_training.csv\")\n",
        "test_path = tf.keras.utils.get_file(\n",
        "    \"iris_test.csv\", \"https://storage.googleapis.com/download.tensorflow.org/data/iris_test.csv\")\n",
        "\n"
      ],
      "metadata": {
        "colab": {
          "base_uri": "https://localhost:8080/"
        },
        "id": "_ahNKch2bvl1",
        "outputId": "a62f42a8-9324-4d22-e93b-57aceb215dcb"
      },
      "execution_count": null,
      "outputs": [
        {
          "output_type": "stream",
          "name": "stdout",
          "text": [
            "Downloading data from https://storage.googleapis.com/download.tensorflow.org/data/iris_training.csv\n",
            "16384/2194 [================================================================================================================================================================================================================================] - 0s 0us/step\n",
            "Downloading data from https://storage.googleapis.com/download.tensorflow.org/data/iris_test.csv\n",
            "16384/573 [=========================================================================================================================================================================================================================================================================================================================================================================================================================================================================================================================================================================================================================================================================================================================================================================================================================================================================================] - 0s 0us/step\n"
          ]
        }
      ]
    },
    {
      "cell_type": "code",
      "source": [
        "train = pd.read_csv(train_path, names=CSV_COLUMN_NAMES, header=0)\n",
        "test = pd.read_csv(test_path, names=CSV_COLUMN_NAMES, header=0)"
      ],
      "metadata": {
        "id": "B_BSzuc_cgcJ"
      },
      "execution_count": null,
      "outputs": []
    },
    {
      "cell_type": "code",
      "source": [
        "# Inspeccionamos los datos\n",
        "train.head()"
      ],
      "metadata": {
        "colab": {
          "base_uri": "https://localhost:8080/",
          "height": 206
        },
        "id": "wltXsLWAb-2Y",
        "outputId": "e84adbbd-4289-4a50-c45c-85da6f789858"
      },
      "execution_count": null,
      "outputs": [
        {
          "output_type": "execute_result",
          "data": {
            "text/plain": [
              "   SepalLength  SepalWidth  PetalLength  PetalWidth  Species\n",
              "0          6.4         2.8          5.6         2.2        2\n",
              "1          5.0         2.3          3.3         1.0        1\n",
              "2          4.9         2.5          4.5         1.7        2\n",
              "3          4.9         3.1          1.5         0.1        0\n",
              "4          5.7         3.8          1.7         0.3        0"
            ],
            "text/html": [
              "\n",
              "  <div id=\"df-f4d9bf2d-3a54-47c0-8c0f-8a2884cd0659\">\n",
              "    <div class=\"colab-df-container\">\n",
              "      <div>\n",
              "<style scoped>\n",
              "    .dataframe tbody tr th:only-of-type {\n",
              "        vertical-align: middle;\n",
              "    }\n",
              "\n",
              "    .dataframe tbody tr th {\n",
              "        vertical-align: top;\n",
              "    }\n",
              "\n",
              "    .dataframe thead th {\n",
              "        text-align: right;\n",
              "    }\n",
              "</style>\n",
              "<table border=\"1\" class=\"dataframe\">\n",
              "  <thead>\n",
              "    <tr style=\"text-align: right;\">\n",
              "      <th></th>\n",
              "      <th>SepalLength</th>\n",
              "      <th>SepalWidth</th>\n",
              "      <th>PetalLength</th>\n",
              "      <th>PetalWidth</th>\n",
              "      <th>Species</th>\n",
              "    </tr>\n",
              "  </thead>\n",
              "  <tbody>\n",
              "    <tr>\n",
              "      <th>0</th>\n",
              "      <td>6.4</td>\n",
              "      <td>2.8</td>\n",
              "      <td>5.6</td>\n",
              "      <td>2.2</td>\n",
              "      <td>2</td>\n",
              "    </tr>\n",
              "    <tr>\n",
              "      <th>1</th>\n",
              "      <td>5.0</td>\n",
              "      <td>2.3</td>\n",
              "      <td>3.3</td>\n",
              "      <td>1.0</td>\n",
              "      <td>1</td>\n",
              "    </tr>\n",
              "    <tr>\n",
              "      <th>2</th>\n",
              "      <td>4.9</td>\n",
              "      <td>2.5</td>\n",
              "      <td>4.5</td>\n",
              "      <td>1.7</td>\n",
              "      <td>2</td>\n",
              "    </tr>\n",
              "    <tr>\n",
              "      <th>3</th>\n",
              "      <td>4.9</td>\n",
              "      <td>3.1</td>\n",
              "      <td>1.5</td>\n",
              "      <td>0.1</td>\n",
              "      <td>0</td>\n",
              "    </tr>\n",
              "    <tr>\n",
              "      <th>4</th>\n",
              "      <td>5.7</td>\n",
              "      <td>3.8</td>\n",
              "      <td>1.7</td>\n",
              "      <td>0.3</td>\n",
              "      <td>0</td>\n",
              "    </tr>\n",
              "  </tbody>\n",
              "</table>\n",
              "</div>\n",
              "      <button class=\"colab-df-convert\" onclick=\"convertToInteractive('df-f4d9bf2d-3a54-47c0-8c0f-8a2884cd0659')\"\n",
              "              title=\"Convert this dataframe to an interactive table.\"\n",
              "              style=\"display:none;\">\n",
              "        \n",
              "  <svg xmlns=\"http://www.w3.org/2000/svg\" height=\"24px\"viewBox=\"0 0 24 24\"\n",
              "       width=\"24px\">\n",
              "    <path d=\"M0 0h24v24H0V0z\" fill=\"none\"/>\n",
              "    <path d=\"M18.56 5.44l.94 2.06.94-2.06 2.06-.94-2.06-.94-.94-2.06-.94 2.06-2.06.94zm-11 1L8.5 8.5l.94-2.06 2.06-.94-2.06-.94L8.5 2.5l-.94 2.06-2.06.94zm10 10l.94 2.06.94-2.06 2.06-.94-2.06-.94-.94-2.06-.94 2.06-2.06.94z\"/><path d=\"M17.41 7.96l-1.37-1.37c-.4-.4-.92-.59-1.43-.59-.52 0-1.04.2-1.43.59L10.3 9.45l-7.72 7.72c-.78.78-.78 2.05 0 2.83L4 21.41c.39.39.9.59 1.41.59.51 0 1.02-.2 1.41-.59l7.78-7.78 2.81-2.81c.8-.78.8-2.07 0-2.86zM5.41 20L4 18.59l7.72-7.72 1.47 1.35L5.41 20z\"/>\n",
              "  </svg>\n",
              "      </button>\n",
              "      \n",
              "  <style>\n",
              "    .colab-df-container {\n",
              "      display:flex;\n",
              "      flex-wrap:wrap;\n",
              "      gap: 12px;\n",
              "    }\n",
              "\n",
              "    .colab-df-convert {\n",
              "      background-color: #E8F0FE;\n",
              "      border: none;\n",
              "      border-radius: 50%;\n",
              "      cursor: pointer;\n",
              "      display: none;\n",
              "      fill: #1967D2;\n",
              "      height: 32px;\n",
              "      padding: 0 0 0 0;\n",
              "      width: 32px;\n",
              "    }\n",
              "\n",
              "    .colab-df-convert:hover {\n",
              "      background-color: #E2EBFA;\n",
              "      box-shadow: 0px 1px 2px rgba(60, 64, 67, 0.3), 0px 1px 3px 1px rgba(60, 64, 67, 0.15);\n",
              "      fill: #174EA6;\n",
              "    }\n",
              "\n",
              "    [theme=dark] .colab-df-convert {\n",
              "      background-color: #3B4455;\n",
              "      fill: #D2E3FC;\n",
              "    }\n",
              "\n",
              "    [theme=dark] .colab-df-convert:hover {\n",
              "      background-color: #434B5C;\n",
              "      box-shadow: 0px 1px 3px 1px rgba(0, 0, 0, 0.15);\n",
              "      filter: drop-shadow(0px 1px 2px rgba(0, 0, 0, 0.3));\n",
              "      fill: #FFFFFF;\n",
              "    }\n",
              "  </style>\n",
              "\n",
              "      <script>\n",
              "        const buttonEl =\n",
              "          document.querySelector('#df-f4d9bf2d-3a54-47c0-8c0f-8a2884cd0659 button.colab-df-convert');\n",
              "        buttonEl.style.display =\n",
              "          google.colab.kernel.accessAllowed ? 'block' : 'none';\n",
              "\n",
              "        async function convertToInteractive(key) {\n",
              "          const element = document.querySelector('#df-f4d9bf2d-3a54-47c0-8c0f-8a2884cd0659');\n",
              "          const dataTable =\n",
              "            await google.colab.kernel.invokeFunction('convertToInteractive',\n",
              "                                                     [key], {});\n",
              "          if (!dataTable) return;\n",
              "\n",
              "          const docLinkHtml = 'Like what you see? Visit the ' +\n",
              "            '<a target=\"_blank\" href=https://colab.research.google.com/notebooks/data_table.ipynb>data table notebook</a>'\n",
              "            + ' to learn more about interactive tables.';\n",
              "          element.innerHTML = '';\n",
              "          dataTable['output_type'] = 'display_data';\n",
              "          await google.colab.output.renderOutput(dataTable, element);\n",
              "          const docLink = document.createElement('div');\n",
              "          docLink.innerHTML = docLinkHtml;\n",
              "          element.appendChild(docLink);\n",
              "        }\n",
              "      </script>\n",
              "    </div>\n",
              "  </div>\n",
              "  "
            ]
          },
          "metadata": {},
          "execution_count": 5
        }
      ]
    },
    {
      "cell_type": "markdown",
      "source": [
        "Ahora quitamos la columna objetivo  de cada dataset respectivamente sera 'Species' feature"
      ],
      "metadata": {
        "id": "nYqG21sacO1m"
      }
    },
    {
      "cell_type": "code",
      "source": [
        "train_y = train.pop('Species')\n",
        "test_y = test.pop('Species')\n",
        "\n",
        "# The label column has now been removed from the features.\n",
        "train.head()"
      ],
      "metadata": {
        "colab": {
          "base_uri": "https://localhost:8080/",
          "height": 206
        },
        "id": "-w0SE8n0cBeu",
        "outputId": "313346a4-8e34-4e42-e8e6-9d21a197ab16"
      },
      "execution_count": null,
      "outputs": [
        {
          "output_type": "execute_result",
          "data": {
            "text/plain": [
              "   SepalLength  SepalWidth  PetalLength  PetalWidth\n",
              "0          6.4         2.8          5.6         2.2\n",
              "1          5.0         2.3          3.3         1.0\n",
              "2          4.9         2.5          4.5         1.7\n",
              "3          4.9         3.1          1.5         0.1\n",
              "4          5.7         3.8          1.7         0.3"
            ],
            "text/html": [
              "\n",
              "  <div id=\"df-b5260f43-856b-47d5-9a18-3e5405af3fdf\">\n",
              "    <div class=\"colab-df-container\">\n",
              "      <div>\n",
              "<style scoped>\n",
              "    .dataframe tbody tr th:only-of-type {\n",
              "        vertical-align: middle;\n",
              "    }\n",
              "\n",
              "    .dataframe tbody tr th {\n",
              "        vertical-align: top;\n",
              "    }\n",
              "\n",
              "    .dataframe thead th {\n",
              "        text-align: right;\n",
              "    }\n",
              "</style>\n",
              "<table border=\"1\" class=\"dataframe\">\n",
              "  <thead>\n",
              "    <tr style=\"text-align: right;\">\n",
              "      <th></th>\n",
              "      <th>SepalLength</th>\n",
              "      <th>SepalWidth</th>\n",
              "      <th>PetalLength</th>\n",
              "      <th>PetalWidth</th>\n",
              "    </tr>\n",
              "  </thead>\n",
              "  <tbody>\n",
              "    <tr>\n",
              "      <th>0</th>\n",
              "      <td>6.4</td>\n",
              "      <td>2.8</td>\n",
              "      <td>5.6</td>\n",
              "      <td>2.2</td>\n",
              "    </tr>\n",
              "    <tr>\n",
              "      <th>1</th>\n",
              "      <td>5.0</td>\n",
              "      <td>2.3</td>\n",
              "      <td>3.3</td>\n",
              "      <td>1.0</td>\n",
              "    </tr>\n",
              "    <tr>\n",
              "      <th>2</th>\n",
              "      <td>4.9</td>\n",
              "      <td>2.5</td>\n",
              "      <td>4.5</td>\n",
              "      <td>1.7</td>\n",
              "    </tr>\n",
              "    <tr>\n",
              "      <th>3</th>\n",
              "      <td>4.9</td>\n",
              "      <td>3.1</td>\n",
              "      <td>1.5</td>\n",
              "      <td>0.1</td>\n",
              "    </tr>\n",
              "    <tr>\n",
              "      <th>4</th>\n",
              "      <td>5.7</td>\n",
              "      <td>3.8</td>\n",
              "      <td>1.7</td>\n",
              "      <td>0.3</td>\n",
              "    </tr>\n",
              "  </tbody>\n",
              "</table>\n",
              "</div>\n",
              "      <button class=\"colab-df-convert\" onclick=\"convertToInteractive('df-b5260f43-856b-47d5-9a18-3e5405af3fdf')\"\n",
              "              title=\"Convert this dataframe to an interactive table.\"\n",
              "              style=\"display:none;\">\n",
              "        \n",
              "  <svg xmlns=\"http://www.w3.org/2000/svg\" height=\"24px\"viewBox=\"0 0 24 24\"\n",
              "       width=\"24px\">\n",
              "    <path d=\"M0 0h24v24H0V0z\" fill=\"none\"/>\n",
              "    <path d=\"M18.56 5.44l.94 2.06.94-2.06 2.06-.94-2.06-.94-.94-2.06-.94 2.06-2.06.94zm-11 1L8.5 8.5l.94-2.06 2.06-.94-2.06-.94L8.5 2.5l-.94 2.06-2.06.94zm10 10l.94 2.06.94-2.06 2.06-.94-2.06-.94-.94-2.06-.94 2.06-2.06.94z\"/><path d=\"M17.41 7.96l-1.37-1.37c-.4-.4-.92-.59-1.43-.59-.52 0-1.04.2-1.43.59L10.3 9.45l-7.72 7.72c-.78.78-.78 2.05 0 2.83L4 21.41c.39.39.9.59 1.41.59.51 0 1.02-.2 1.41-.59l7.78-7.78 2.81-2.81c.8-.78.8-2.07 0-2.86zM5.41 20L4 18.59l7.72-7.72 1.47 1.35L5.41 20z\"/>\n",
              "  </svg>\n",
              "      </button>\n",
              "      \n",
              "  <style>\n",
              "    .colab-df-container {\n",
              "      display:flex;\n",
              "      flex-wrap:wrap;\n",
              "      gap: 12px;\n",
              "    }\n",
              "\n",
              "    .colab-df-convert {\n",
              "      background-color: #E8F0FE;\n",
              "      border: none;\n",
              "      border-radius: 50%;\n",
              "      cursor: pointer;\n",
              "      display: none;\n",
              "      fill: #1967D2;\n",
              "      height: 32px;\n",
              "      padding: 0 0 0 0;\n",
              "      width: 32px;\n",
              "    }\n",
              "\n",
              "    .colab-df-convert:hover {\n",
              "      background-color: #E2EBFA;\n",
              "      box-shadow: 0px 1px 2px rgba(60, 64, 67, 0.3), 0px 1px 3px 1px rgba(60, 64, 67, 0.15);\n",
              "      fill: #174EA6;\n",
              "    }\n",
              "\n",
              "    [theme=dark] .colab-df-convert {\n",
              "      background-color: #3B4455;\n",
              "      fill: #D2E3FC;\n",
              "    }\n",
              "\n",
              "    [theme=dark] .colab-df-convert:hover {\n",
              "      background-color: #434B5C;\n",
              "      box-shadow: 0px 1px 3px 1px rgba(0, 0, 0, 0.15);\n",
              "      filter: drop-shadow(0px 1px 2px rgba(0, 0, 0, 0.3));\n",
              "      fill: #FFFFFF;\n",
              "    }\n",
              "  </style>\n",
              "\n",
              "      <script>\n",
              "        const buttonEl =\n",
              "          document.querySelector('#df-b5260f43-856b-47d5-9a18-3e5405af3fdf button.colab-df-convert');\n",
              "        buttonEl.style.display =\n",
              "          google.colab.kernel.accessAllowed ? 'block' : 'none';\n",
              "\n",
              "        async function convertToInteractive(key) {\n",
              "          const element = document.querySelector('#df-b5260f43-856b-47d5-9a18-3e5405af3fdf');\n",
              "          const dataTable =\n",
              "            await google.colab.kernel.invokeFunction('convertToInteractive',\n",
              "                                                     [key], {});\n",
              "          if (!dataTable) return;\n",
              "\n",
              "          const docLinkHtml = 'Like what you see? Visit the ' +\n",
              "            '<a target=\"_blank\" href=https://colab.research.google.com/notebooks/data_table.ipynb>data table notebook</a>'\n",
              "            + ' to learn more about interactive tables.';\n",
              "          element.innerHTML = '';\n",
              "          dataTable['output_type'] = 'display_data';\n",
              "          await google.colab.output.renderOutput(dataTable, element);\n",
              "          const docLink = document.createElement('div');\n",
              "          docLink.innerHTML = docLinkHtml;\n",
              "          element.appendChild(docLink);\n",
              "        }\n",
              "      </script>\n",
              "    </div>\n",
              "  </div>\n",
              "  "
            ]
          },
          "metadata": {},
          "execution_count": 6
        }
      ]
    },
    {
      "cell_type": "code",
      "source": [
        "train.shape, test.shape  #120 y 30 registros respectivamente."
      ],
      "metadata": {
        "colab": {
          "base_uri": "https://localhost:8080/"
        },
        "id": "aOK025uJcaFf",
        "outputId": "4b05b986-2d84-45fd-890a-d41756b01432"
      },
      "execution_count": null,
      "outputs": [
        {
          "output_type": "execute_result",
          "data": {
            "text/plain": [
              "((120, 4), (30, 4))"
            ]
          },
          "metadata": {},
          "execution_count": 11
        }
      ]
    },
    {
      "cell_type": "markdown",
      "source": [
        "### Input function\n",
        "Becesitamos crear otra funcion de entrada aqui, afortunadamente para nosostros esoto es muy facil de hacer. <br>\n",
        "\n",
        "Debe crear funciones de entrada para proporcionar datos para el entrenamiento, la evaluación y la predicción.\n",
        "\n",
        "Una función de entrada es una función que devuelve un objeto tf.data.Dataset que genera la siguiente tupla de dos elementos:\n",
        "\n",
        "- features : un diccionario de Python en el que:\n",
        "\n",
        "> Cada tecla es el nombre de una función.\n",
        "\n",
        "> Cada valor es una matriz que contiene todos los valores de esa característica.\n",
        "\n",
        "- label : una matriz que contiene los valores de la etiqueta para cada ejemplo.\n",
        "\n",
        "Solo para demostrar el formato de la función de entrada, aquí hay una implementación simple:"
      ],
      "metadata": {
        "id": "pLhit29ctlDc"
      }
    },
    {
      "cell_type": "code",
      "source": [
        "def input_evaluation_set():\n",
        "    features = {'SepalLength': np.array([6.4, 5.0]),\n",
        "                'SepalWidth':  np.array([2.8, 2.3]),\n",
        "                'PetalLength': np.array([5.6, 3.3]),\n",
        "                'PetalWidth':  np.array([2.2, 1.0])}\n",
        "    labels = np.array([2, 1])\n",
        "    return features, labels"
      ],
      "metadata": {
        "id": "2cQjBYHec3Yy"
      },
      "execution_count": null,
      "outputs": []
    },
    {
      "cell_type": "markdown",
      "source": [
        "Su función de entrada puede generar el diccionario de features y la lista de label de la forma que desee. Sin embargo, se recomienda usar la API de conjunto de datos de TensorFlow, que puede analizar todo tipo de datos.\n",
        "\n",
        "La API de conjunto de datos puede manejar muchos casos comunes por usted. Por ejemplo, con la API de conjunto de datos, puede leer fácilmente registros de una gran colección de archivos en paralelo y unirlos en una sola secuencia.\n",
        "\n",
        "Para simplificar las cosas en este ejemplo, cargará los datos con pandas y creará una canalización de entrada a partir de estos datos en memoria:"
      ],
      "metadata": {
        "id": "CDBnc4CGue0X"
      }
    },
    {
      "cell_type": "code",
      "source": [
        "def input_fn(features, labels, training=True, batch_size=256):\n",
        "    \"\"\"An input function for training or evaluating\"\"\"\n",
        "    # Convert the inputs to a Dataset.\n",
        "    dataset = tf.data.Dataset.from_tensor_slices((dict(features), labels))\n",
        "\n",
        "    # Shuffle and repeat if you are in training mode.\n",
        "    if training:\n",
        "        dataset = dataset.shuffle(1000).repeat()\n",
        "\n",
        "    return dataset.batch(batch_size)"
      ],
      "metadata": {
        "id": "VXDvk5Fgupln"
      },
      "execution_count": null,
      "outputs": []
    },
    {
      "cell_type": "markdown",
      "source": [
        "### Feature Columns (columnas caracteristicas)\n",
        "Una columna de características es un objeto que describe cómo el modelo debe usar los datos de entrada sin procesar del diccionario de características. Cuando crea un modelo de Estimator, le pasa una lista de columnas de características que describen cada una de las características que desea que use el modelo. El módulo tf.feature_column proporciona muchas opciones para representar datos en el modelo.\n",
        "\n",
        "Para Iris, las 4 características sin procesar son valores numéricos, por lo que creará una lista de columnas de características para indicarle al modelo Estimator que represente cada una de las cuatro características como valores de coma flotante de 32 bits. Por lo tanto, el código para crear la columna de características es\n"
      ],
      "metadata": {
        "id": "8PgTEFk8v12C"
      }
    },
    {
      "cell_type": "code",
      "source": [
        "my_feature_columns = []\n",
        "for key in train.keys():\n",
        "  my_feature_columns.append(tf.feature_column.numeric_column(key=key))\n",
        "\n",
        "print(my_feature_columns)"
      ],
      "metadata": {
        "colab": {
          "base_uri": "https://localhost:8080/"
        },
        "id": "6GWjFy46v5oO",
        "outputId": "b5085de8-ce3c-4821-fc10-c49c2bed455a"
      },
      "execution_count": null,
      "outputs": [
        {
          "output_type": "stream",
          "name": "stdout",
          "text": [
            "SepalLength\n",
            "SepalWidth\n",
            "PetalLength\n",
            "PetalWidth\n",
            "[NumericColumn(key='SepalLength', shape=(1,), default_value=None, dtype=tf.float32, normalizer_fn=None), NumericColumn(key='SepalWidth', shape=(1,), default_value=None, dtype=tf.float32, normalizer_fn=None), NumericColumn(key='PetalLength', shape=(1,), default_value=None, dtype=tf.float32, normalizer_fn=None), NumericColumn(key='PetalWidth', shape=(1,), default_value=None, dtype=tf.float32, normalizer_fn=None)]\n"
          ]
        }
      ]
    },
    {
      "cell_type": "markdown",
      "source": [
        "Las columnas de características pueden ser mucho más sofisticadas que las que se muestran aquí. Puede leer más sobre las columnas de características en esta guía .\n",
        "\n",
        "Ahora que tiene la descripción de cómo quiere que el modelo represente las características sin procesar, puede construir el estimador."
      ],
      "metadata": {
        "id": "zZZIMuy5xafX"
      }
    },
    {
      "cell_type": "markdown",
      "source": [
        "### Construyendo el modelo.\n",
        "El problema de Iris es un problema de clasificación clásico. Afortunadamente, TensorFlow proporciona varios Estimadores clasificadores prefabricados, que incluyen:\n",
        "\n",
        ">***tf.estimator.DNNClassifier***    para modelos profundos que realizan clasificación multiclase. Red Neuronal\n",
        "\n",
        ">**tf.estimator.DNNLinearCombinedClassifier**      para modelos amplios y profundos.\n",
        "\n",
        ">***tf.estimator.LinearClassifier***  para clasificadores basados ​​en modelos lineales.\n",
        "\n",
        "Para el problema de Iris, tf.estimator.DNNClassifier parece ser la mejor opción. Así es como creaste una instancia de este Estimador:"
      ],
      "metadata": {
        "id": "S1bSKHeLyA3C"
      }
    },
    {
      "cell_type": "code",
      "source": [
        "# Build a DNN with 2 hidden layers with 30 and 10 hidden nodes each.\n",
        "classifier = tf.estimator.DNNClassifier(\n",
        "    feature_columns=my_feature_columns,\n",
        "    # Two hidden layers of 30 and 10 nodes respectively.\n",
        "    # REd neuronal con 2 capas  con  30 nodos y 10 nodos ocultos\n",
        "    hidden_units=[30, 10],\n",
        "    # The model must choose between 3 classes.\n",
        "    n_classes=3)"
      ],
      "metadata": {
        "colab": {
          "base_uri": "https://localhost:8080/"
        },
        "id": "y08vTy9lxiFU",
        "outputId": "808445c2-0909-4703-cad1-1e5373a24e99"
      },
      "execution_count": null,
      "outputs": [
        {
          "output_type": "stream",
          "name": "stderr",
          "text": [
            "WARNING:tensorflow:Using temporary folder as model directory: /tmp/tmpcp0wpygn\n"
          ]
        }
      ]
    },
    {
      "cell_type": "markdown",
      "source": [
        "### Entranar el modelo"
      ],
      "metadata": {
        "id": "IJYAWlYs39Se"
      }
    },
    {
      "cell_type": "code",
      "source": [
        "# Train the Model.\n",
        "classifier.train(\n",
        "    input_fn=lambda: input_fn(train, train_y, training=True),\n",
        "    steps=9000)"
      ],
      "metadata": {
        "id": "ZImkzYyu38B7",
        "colab": {
          "base_uri": "https://localhost:8080/"
        },
        "outputId": "7909f4f8-bbeb-4149-d536-2340d9762ee1"
      },
      "execution_count": null,
      "outputs": [
        {
          "output_type": "stream",
          "name": "stderr",
          "text": [
            "WARNING:tensorflow:From /usr/local/lib/python3.7/dist-packages/tensorflow/python/training/saver.py:1161: get_checkpoint_mtimes (from tensorflow.python.training.checkpoint_management) is deprecated and will be removed in a future version.\n",
            "Instructions for updating:\n",
            "Use standard file utilities to get mtimes.\n"
          ]
        },
        {
          "output_type": "execute_result",
          "data": {
            "text/plain": [
              "<tensorflow_estimator.python.estimator.canned.dnn.DNNClassifierV2 at 0x7f9894e6c290>"
            ]
          },
          "metadata": {},
          "execution_count": 13
        }
      ]
    },
    {
      "cell_type": "markdown",
      "source": [
        "Tenga en cuenta que envuelve su llamada input_fn en una lambda para capturar los argumentos mientras proporciona una función de entrada que no toma argumentos, como lo espera el Estimador. El argumento de steps le dice al método que detenga el entrenamiento después de una serie de pasos de entrenamiento."
      ],
      "metadata": {
        "id": "qMDvF4cJCmhg"
      }
    },
    {
      "cell_type": "markdown",
      "source": [
        "### Evaluacion del modelo\n",
        "Ahora que el modelo ha sido entrenado, puede obtener algunas estadísticas sobre su rendimiento. El siguiente bloque de código evalúa la precisión del modelo entrenado en los datos de prueba:"
      ],
      "metadata": {
        "id": "dtjVlLmqDDOR"
      }
    },
    {
      "cell_type": "code",
      "source": [
        "eval_result = classifier.evaluate(\n",
        "    input_fn=lambda: input_fn(test, test_y, training=False))\n",
        "\n",
        "print('\\nTest set accuracy: {accuracy:0.3f}\\n'.format(**eval_result))"
      ],
      "metadata": {
        "colab": {
          "base_uri": "https://localhost:8080/"
        },
        "id": "T4PbPa-ICoSe",
        "outputId": "259b7aea-3abf-4205-9726-f4f307bc6f8a"
      },
      "execution_count": null,
      "outputs": [
        {
          "output_type": "stream",
          "name": "stdout",
          "text": [
            "\n",
            "Test set accuracy: 0.967\n",
            "\n"
          ]
        }
      ]
    },
    {
      "cell_type": "markdown",
      "source": [
        "El diccionario eval_result también contiene la average_loss promedio (pérdida media por muestra), la loss (pérdida media por mini-lote) y el valor del paso global del global_step (el número de iteraciones de entrenamiento a las que se sometió)."
      ],
      "metadata": {
        "id": "buCbmeBsDOM_"
      }
    },
    {
      "cell_type": "markdown",
      "source": [
        "### Hacer predicciones (inferir) a partir del modelo entrenado\n",
        "Ahora tiene un modelo entrenado que produce buenos resultados de evaluación. Ahora puede usar el modelo entrenado para predecir la especie de una flor de iris en función de algunas medidas no etiquetadas. Al igual que con el entrenamiento y la evaluación, haces predicciones usando una sola llamada de función:"
      ],
      "metadata": {
        "id": "sXAFXc-CFB4N"
      }
    },
    {
      "cell_type": "code",
      "source": [
        "from tensorflow.python.ops.gen_array_ops import inplace_update\n",
        "def input_fn(features, batch_size=256):\n",
        "  # convierte los inputs del dataset en etiquetas.\n",
        "  return tf.data.Dataset.from_tensor_slices(dict(features)).batch(batch_size)\n",
        "\n",
        "features = ['SepalLength', 'SepalWidth', 'PetalLength', 'PetalWidth']\n",
        "predict = {}\n",
        "\n",
        "print('Porfavor escribe el numero de la medida correspondiente.')\n",
        "\n",
        "for feature in features:\n",
        "  valid = True\n",
        "  while valid:\n",
        "    val = input((feature + \": \"))\n",
        "    if not val.isdigit(): valid = False\n",
        "  predict[feature] = [float(val)]\n",
        "\n",
        "predictions = classifier.predict(input_fn=lambda : input_fn(predict))\n",
        "\n",
        "for pred_dict in predictions:\n",
        "  class_id = pred_dict['class_ids'][0]\n",
        "  proba = pred_dict['probabilities'][class_id]\n",
        "\n",
        "  print('Prediccion es \"{}\" ({:.1f}%))'.format(SPECIES[class_id], 100*proba))\n"
      ],
      "metadata": {
        "colab": {
          "base_uri": "https://localhost:8080/"
        },
        "id": "GWVHZX_2DYPb",
        "outputId": "bd9bf153-2f4c-4d7d-e394-faee24a09504"
      },
      "execution_count": null,
      "outputs": [
        {
          "output_type": "stream",
          "name": "stdout",
          "text": [
            "Porfavor escribe el numero de la medida correspondiente.\n",
            "SepalLength: 1.8\n",
            "SepalWidth: 2.1\n",
            "PetalLength: 3.1\n",
            "PetalWidth: 3.5\n",
            "Prediccion es \"Virginica\" (89.9%))\n"
          ]
        }
      ]
    },
    {
      "cell_type": "code",
      "source": [
        ""
      ],
      "metadata": {
        "id": "4hcLzTMeIQvq"
      },
      "execution_count": null,
      "outputs": []
    },
    {
      "cell_type": "markdown",
      "source": [
        "# Clustering\n",
        "\n",
        "Clustering es una tecnica de machine learning que envuelve grupo de datos. En teoria, los puntos de datos que están en el mismo grupo deben tener propiedades y caracteristicas similares, mientras que los puntos de datos en grupos diferentes deben tener otras propiedades y caracteristicas.\n",
        "Fuente: <br>\n",
        "https://towardsdatascience.com/the-5-clustering-algorithms-data-scientists-need-to-know-a36d136ef68 <br>\n",
        "\n",
        "Desafortunadamente, hay problemas con la versión actual de Tensorflow y la implementacion para KMeans. Esto significa que no podemos usar KMeans sin escreibir el algoritmo de forma scratch (Sintaxis Los scripts de scratch algoritmos se edifican encajando bloques que representan afirmaciones, expresiones y construcciones de control, puede ver mas en https://todoscratch.com/scratch-algoritmos/)\n",
        "todavía no estamos en ese nivel, así que solo explicaremos los conceptos básicos de la agrupación en clústeres por ahora.\n",
        "\n",
        "### Algoritmo basico para k-means\n",
        "* Step 1: Elige puntos al azar para colocar k-centroides. <br>\n",
        "\n",
        "* Step 2: Asigna todos los puntos de datos a los centroides por la distancia. La distancia mas cercana al punto con un centroide, sera la que se asigne.\n",
        "\n",
        "* Step 3: Ahora promedias todos los puntos asignados a cada centroide para encontrar la mitad de ese cluster (***centro de masa***). Para colocar el centroide en esa posicion.\n",
        "\n",
        "* Sept 4: Reasigna cada punto una vez mas al centroide mas cercano \n",
        "\n",
        "* Step 5: Repite pasos 3-4 hasta que los puntos ya no cambien de centroide."
      ],
      "metadata": {
        "id": "O1SWv_8Up53g"
      }
    },
    {
      "cell_type": "markdown",
      "source": [
        "# Hidden Markov Models (Modelos ocultos de Markov)\n",
        "\n",
        "Los modelos ocultos de Markov es conjunto finito de estados, cada uno de estos esta asociado con una (generalmente multidimensional) distribucion de probabilidad. Las transiciones entre los estados se rigen por un conjunto de probabilidades llamadas probabilidades de transicion. (http://jedlik.phy.bme.hu/~gerjanos/HMM/node4.html) <br>\n",
        "\n",
        "Un modelo oculto de markov trabaja con probabilidades para predecir eventos o estados futuros. En esta seccion nosotros aprenderemos como crear un modelo oculto de MArkov que pueda preecir el tiempo.\n",
        "\n",
        "this section is based on the following TensorFlow tutorial: <br>\n",
        "https://www.tensorflow.org/probability/api_docs/python/tfp/distributions/HiddenMarkovModel"
      ],
      "metadata": {
        "id": "N0J8b9SK0HPc"
      }
    },
    {
      "cell_type": "markdown",
      "source": [
        "## Data\n",
        "Vamos a empezar discutiendo el tipo de datos que usaremos cuando trabajemos con un modelo oculto de Markov.\n",
        "\n",
        "En la seccion anterior trabajamos con grandes conjuntos de entrada. Para un modelo de Markov nosotros solo estamos interesados en la distribucion de probabilidad que tiene que ver con los estados.\n",
        "\n",
        "Podemos encontrar esas probabilidades de conjunto de datos grande o tal vez ya tengamos estos valores. Repasaremos un ejemplo en un segundo que aclara algunas cosas, pero discutamos los componentes de un modelo de Markov.\n",
        "\n",
        "*** STATES ***: En cada modelo de Markov tenemos un conjunto finito de estados. Estos estados pueden ser cosas como {'calido' , 'frio'}  o bien {'rojo', 'verde', 'azul', etc}. Estos estados estan ocultos en el modelo. Esto significa que no los observamos directamente.\n",
        "\n",
        "***Observaciones*** : Cada estado tiene un resultado observado asociado con este basado en distribucion de probabilidad (La probabilidad de que suceda cada estado). Un ejemplo de esto es el siguiente: En un dia caluroso hay un 80% de probabilidad de estar feliz y un 20% de estar triste.\n",
        "\n",
        "***Transicion*** : Cada estado tendra una probabilidad definidad a una probabilidad que define la probabilidad de transición a un estado diferente (la probabilidad de estar en i y pasar a j). Un ejemplo es el siguiente: En un dia firo, hay un 30% de chance de que el siguiente sea caluroso y un 70% de chace de tener otro dia frio.\n",
        "\n",
        "Para crear un modelo de Markov necesitamos: <br>\n",
        "* States <br>\n",
        "* Distribucion de las observaciones <br>\n",
        "* Distribucion de las transiciones. <br>\n",
        "<br>\n",
        "<br>\n",
        "\n",
        "Para nuestro proposito asumiremos que ya tenemos esta informacion mientras intentamos predecir el tiempo (clima) en un dia dado."
      ],
      "metadata": {
        "id": "wwMEyoW1Wr5E"
      }
    },
    {
      "cell_type": "code",
      "source": [
        "%tensorflow_version 2.x"
      ],
      "metadata": {
        "colab": {
          "base_uri": "https://localhost:8080/"
        },
        "id": "Mrr6Z_sBWrBr",
        "outputId": "c2dc89b4-db56-42f2-f212-a69fe34ecee1"
      },
      "execution_count": 1,
      "outputs": [
        {
          "output_type": "stream",
          "name": "stdout",
          "text": [
            "Colab only includes TensorFlow 2.x; %tensorflow_version has no effect.\n"
          ]
        }
      ]
    },
    {
      "cell_type": "code",
      "source": [
        "import tensorflow_probability as tfp \n",
        "import tensorflow as tf "
      ],
      "metadata": {
        "id": "oE3UyyhXT1RM"
      },
      "execution_count": 2,
      "outputs": []
    },
    {
      "cell_type": "markdown",
      "source": [
        "### Modelo del tiempo\n",
        "Tomado directamente de la documentacion de TensorFlow: <br>\n",
        "https:www.tensorflow.org/probability/api_docs/python/tfp/distributions/HiddenMarkovModel <br>\n",
        "\n",
        "Modelaremos un sistema meteorologico sencillo e intentaremos predecir la temperatura en cada dia dado la siguiente información.\n",
        "\n",
        "1. Dias frios estan codificados como 0 y los calurosos con 1.\n",
        "\n",
        "2. El primer dia en nuestra secuencia tiene un 80% de probabilidad de ser frio.\n",
        "\n",
        "3. Un dia frio tiene 30% de probabilidad de ser caluroso al siguiente.\n",
        "\n",
        "4. Un dia caluroso tiene 20% de ser frio al siguiente dia.\n",
        "\n",
        "5. En cada dia la temperatura esta distribuida normalmente con una media de 0 y desviacion estandar de 5 para un dia frio, y para un dia caluroso la media es de 15 u la desviacion estandar de 10.\n",
        "\n",
        "En este ejemplo, en un dia caluroso la temperatura promedio es de 15 con un rango de 5 a 25.\n",
        "\n",
        "Para modelar esto en tensorflow hacemos lo siguiente."
      ],
      "metadata": {
        "id": "Xv6NNxneWhVx"
      }
    },
    {
      "cell_type": "code",
      "source": [
        "# making a shortcut for later on\n",
        "tfd = tfp.distributions\n",
        "# Refer to point 2\n",
        "initial_distribution = tfd.Categorical(probs=[0.8, 0.2])\n",
        "# Refer to points 3 and 4\n",
        "transition_distribution = tfd.Categorical(probs=[[0.7, 0.3],\n",
        "                                                 [0.2, 0.8]])\n",
        "# Refer to point 5\n",
        "observation_distribution = tfd.Normal(loc=[0., 15.], scale=[5., 10.])\n",
        "# loc representa la media o promedio  y  scale representa la desviacion estandar\n"
      ],
      "metadata": {
        "id": "Np7S8wMcUAQJ"
      },
      "execution_count": 3,
      "outputs": []
    },
    {
      "cell_type": "markdown",
      "source": [
        "Hemos creado variables de distribucion para el nuestro modelo meteorologico, y ahora es tiempo de crear el modelo de Markov"
      ],
      "metadata": {
        "id": "rsswFrcfawv_"
      }
    },
    {
      "cell_type": "code",
      "source": [
        "model = tfd.HiddenMarkovModel(\n",
        "    initial_distribution = initial_distribution,\n",
        "    transition_distribution = transition_distribution,\n",
        "    observation_distribution = observation_distribution,\n",
        "    num_steps = 7)"
      ],
      "metadata": {
        "id": "HTaWjC3mbKOl"
      },
      "execution_count": 4,
      "outputs": []
    },
    {
      "cell_type": "markdown",
      "source": [
        "El numero de pasos representa el numero de dias que nosotros queremos predecir. En este caso hemos escogido 7, una semana enterea.\n",
        "\n",
        "No olvidar que nuestro objetivo es predecir la temperatura.\n"
      ],
      "metadata": {
        "id": "HaT9kbpfcokY"
      }
    },
    {
      "cell_type": "code",
      "source": [
        "mean = model.mean()\n",
        "\n",
        "mean.numpy()"
      ],
      "metadata": {
        "colab": {
          "base_uri": "https://localhost:8080/"
        },
        "id": "BtS2WZIVeIg_",
        "outputId": "79739a00-fe8a-4ede-e78a-4d0b0e13d7fd"
      },
      "execution_count": 6,
      "outputs": [
        {
          "output_type": "execute_result",
          "data": {
            "text/plain": [
              "array([2.9999998, 5.9999995, 7.4999995, 8.25     , 8.625001 , 8.812501 ,\n",
              "       8.90625  ], dtype=float32)"
            ]
          },
          "metadata": {},
          "execution_count": 6
        }
      ]
    },
    {
      "cell_type": "code",
      "source": [
        "# Otra manera de visualizar los datos\n",
        "\n",
        "# Debido a la forma en que funciona el tensorflow en un nivel inferior,\n",
        "# necesitamos evaluar parte del gráfico. Desde dentro de una sesión para ver el valor de\n",
        "# este tensor. En la nueva versión de tensorflow necesitamos usar tf.compat.v1.Session( ) \n",
        "# en lugar de solo tf. Sesión()\n",
        "\n",
        "with tf.compat.v1.Session() as sess:\n",
        "  print(mean.numpy())"
      ],
      "metadata": {
        "colab": {
          "base_uri": "https://localhost:8080/"
        },
        "id": "HXHyAffxeMR1",
        "outputId": "dec26f91-79ba-4305-f478-fb2904ebf1a6"
      },
      "execution_count": 7,
      "outputs": [
        {
          "output_type": "stream",
          "name": "stdout",
          "text": [
            "[2.9999998 5.9999995 7.4999995 8.25      8.625001  8.812501  8.90625  ]\n"
          ]
        }
      ]
    },
    {
      "cell_type": "code",
      "source": [
        ""
      ],
      "metadata": {
        "id": "2d07kj0Vee7G"
      },
      "execution_count": null,
      "outputs": []
    }
  ],
  "metadata": {
    "colab": {
      "name": "Algorithms_Basics_M_L.ipynb",
      "provenance": [],
      "collapsed_sections": [
        "aGn30vHGn8QH",
        "0BAt4RxlXwDP"
      ],
      "authorship_tag": "ABX9TyO/nQJlsDO8V98OV3GZK8cW",
      "include_colab_link": true
    },
    "kernelspec": {
      "display_name": "Python 3",
      "name": "python3"
    },
    "language_info": {
      "name": "python"
    }
  },
  "nbformat": 4,
  "nbformat_minor": 0
}